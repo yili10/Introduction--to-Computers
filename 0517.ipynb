{
  "nbformat": 4,
  "nbformat_minor": 0,
  "metadata": {
    "colab": {
      "provenance": [],
      "authorship_tag": "ABX9TyO0mcTh6RcXhaY+V5vgUQLQ",
      "include_colab_link": true
    },
    "kernelspec": {
      "name": "python3",
      "display_name": "Python 3"
    },
    "language_info": {
      "name": "python"
    }
  },
  "cells": [
    {
      "cell_type": "markdown",
      "metadata": {
        "id": "view-in-github",
        "colab_type": "text"
      },
      "source": [
        "<a href=\"https://colab.research.google.com/github/yili10/Introduction--to-Computers/blob/main/0517.ipynb\" target=\"_parent\"><img src=\"https://colab.research.google.com/assets/colab-badge.svg\" alt=\"Open In Colab\"/></a>"
      ]
    },
    {
      "cell_type": "code",
      "execution_count": 1,
      "metadata": {
        "colab": {
          "base_uri": "https://localhost:8080/"
        },
        "id": "qXlXWzWIxxYA",
        "outputId": "e2a40b48-c4d7-48ae-d144-d70517315817"
      },
      "outputs": [
        {
          "output_type": "stream",
          "name": "stdout",
          "text": [
            "score: 59\n",
            "Grade is:F\n"
          ]
        }
      ],
      "source": [
        "score=int(input(\"score: \"))\n",
        "if score>=90:\n",
        "    print ('Grade is:A')\n",
        "elif score>=80:\n",
        "    print ('Grade is:B')\n",
        "elif score>=70:\n",
        "    print ('Grade is:C')\n",
        "elif score>=60:\n",
        "    print ('Grade is:D')\n",
        "else:\n",
        "    print ('Grade is:F')"
      ]
    },
    {
      "cell_type": "markdown",
      "source": [
        "成績"
      ],
      "metadata": {
        "id": "vaQAsKanEAi7"
      }
    },
    {
      "cell_type": "code",
      "source": [
        "score=int(input(\"請輸入成績: \"))\n",
        "if score>=90:\n",
        "    print ('Grade is:A')\n",
        "elif score>=80:\n",
        "    print ('Grade is:B')\n",
        "elif score>=70:\n",
        "    print ('Grade is:C')\n",
        "elif score>=60:\n",
        "    print ('Grade is:D')\n",
        "else:\n",
        "    print ('Grade is:E')"
      ],
      "metadata": {
        "colab": {
          "base_uri": "https://localhost:8080/"
        },
        "id": "4OlBPYlXCx4l",
        "outputId": "b64a5f5b-cb5a-4646-9e01-a5c8d50e2ae6"
      },
      "execution_count": 4,
      "outputs": [
        {
          "output_type": "stream",
          "name": "stdout",
          "text": [
            "請輸入成績: 76\n",
            "Grade is:C\n"
          ]
        }
      ]
    },
    {
      "cell_type": "markdown",
      "source": [
        "溫度"
      ],
      "metadata": {
        "id": "Hp5PAon3D7oN"
      }
    },
    {
      "cell_type": "code",
      "source": [
        "a=int(input(\"請輸入體溫: \"))\n",
        "if a>=37.5:\n",
        "    print ('體溫過高！')\n",
        "elif a>=37:\n",
        "    print ('體溫略高！')\n",
        "elif a>=34:\n",
        "    print ('體溫正常！')\n",
        "else:\n",
        "    print ('體溫異常，請重新量測！')"
      ],
      "metadata": {
        "colab": {
          "base_uri": "https://localhost:8080/"
        },
        "id": "i9eFpit_D5-0",
        "outputId": "9d573c92-85be-401c-d27e-c153222163df"
      },
      "execution_count": 5,
      "outputs": [
        {
          "output_type": "stream",
          "name": "stdout",
          "text": [
            "請輸入體溫: 32\n",
            "體溫異常，請重新量測！\n"
          ]
        }
      ]
    },
    {
      "cell_type": "markdown",
      "source": [
        "季節"
      ],
      "metadata": {
        "id": "_OLQlJ7xED9T"
      }
    },
    {
      "cell_type": "code",
      "source": [
        "month =int(input(\"輸入月份(阿拉伯數字): \"))\n",
        "if (month>=1 and month<=12):\n",
        "  if (month==1 or month==2 or month==3):\n",
        "    print(\"%d 月是春天!\" % month)\n",
        "  elif (month==4 or month==5 or month==6):\n",
        "    print(\"%d 月是夏天!\" % month)\n",
        "  elif (month==7 or month==8 or month==9):\n",
        "    print(\"%d 月是秋天!\" % month)\n",
        "  elif (month==10 or month==11 or month==12):\n",
        "    print(\"%d 月是冬天!\" % month)\n",
        "else:\n",
        "  print(\"$d月不再範圍內!\" % month)"
      ],
      "metadata": {
        "colab": {
          "base_uri": "https://localhost:8080/"
        },
        "id": "AEOFCFNdA7PY",
        "outputId": "c3b7a13d-1c36-4455-efc5-f73fc4ab4951"
      },
      "execution_count": 3,
      "outputs": [
        {
          "output_type": "stream",
          "name": "stdout",
          "text": [
            "輸入月份(阿拉伯數字): 7\n",
            "7 月是秋天!\n"
          ]
        }
      ]
    },
    {
      "cell_type": "markdown",
      "source": [
        "稅"
      ],
      "metadata": {
        "id": "L7uPj-60EHfD"
      }
    },
    {
      "cell_type": "code",
      "source": [
        "m=int(input(\"請輸入今年收入淨額: \"))\n",
        "if m>=2000000:\n",
        "    print(\"付稅金額: {}元\".format(m*0.3))\n",
        "elif m>=1000000:\n",
        "    print(\"付稅金額: {}元\".format(m*0.21))\n",
        "elif m>=600000:\n",
        "    print(\"付稅金額: {}元\".format(m*0.13))\n",
        "elif m>=300000:\n",
        "    print(\"付稅金額: {}元\".format(m*0.06))\n",
        "else:\n",
        "    print(\"付稅金額: {}元\".format(0))"
      ],
      "metadata": {
        "colab": {
          "base_uri": "https://localhost:8080/"
        },
        "id": "kHfeXiQPEOwT",
        "outputId": "747daa26-e148-481b-a5a8-9ba421b968aa"
      },
      "execution_count": 6,
      "outputs": [
        {
          "output_type": "stream",
          "name": "stdout",
          "text": [
            "請輸入今年收入淨額: 800000\n",
            "付稅金額: 104000.0元\n"
          ]
        }
      ]
    },
    {
      "cell_type": "markdown",
      "source": [
        "傘"
      ],
      "metadata": {
        "id": "xRia9YgVEPH0"
      }
    },
    {
      "cell_type": "code",
      "source": [
        "rain=str(input(\"今天會下雨嗎？\"))\n",
        "if (rain!=\"Y\" or rain!=\"y\" or rain!=\"N\" or rain!=\"n\"):\n",
        "    print(\"請重新輸入\")\n",
        "elif (rain==\"Y\" or rain==\"y\"):\n",
        "    print(\"要帶傘\")\n",
        "elif (rain==\"N\" or rain==\"n\"):\n",
        "    print(\"不用帶傘\")"
      ],
      "metadata": {
        "id": "vL__nVUS0TRe",
        "colab": {
          "base_uri": "https://localhost:8080/"
        },
        "outputId": "db566976-94bd-4833-b52c-76428cb46d2d"
      },
      "execution_count": 7,
      "outputs": [
        {
          "output_type": "stream",
          "name": "stdout",
          "text": [
            "今天會下雨嗎？k\n",
            "請重新輸入\n"
          ]
        }
      ]
    }
  ]
}