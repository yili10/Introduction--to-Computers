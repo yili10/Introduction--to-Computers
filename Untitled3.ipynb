{
  "nbformat": 4,
  "nbformat_minor": 0,
  "metadata": {
    "colab": {
      "provenance": [],
      "authorship_tag": "ABX9TyNxLPYF9w+AQ3GM1qPQn1iI",
      "include_colab_link": true
    },
    "kernelspec": {
      "name": "python3",
      "display_name": "Python 3"
    },
    "language_info": {
      "name": "python"
    }
  },
  "cells": [
    {
      "cell_type": "markdown",
      "metadata": {
        "id": "view-in-github",
        "colab_type": "text"
      },
      "source": [
        "<a href=\"https://colab.research.google.com/github/yili10/Introduction--to-Computers/blob/main/Untitled3.ipynb\" target=\"_parent\"><img src=\"https://colab.research.google.com/assets/colab-badge.svg\" alt=\"Open In Colab\"/></a>"
      ]
    },
    {
      "cell_type": "code",
      "source": [
        "score=int(input(\"請輸入分數：\"))\n",
        "if score>=60:\n",
        "    print(\"及格\")\n",
        "else:\n",
        "    print(\"不及格\")"
      ],
      "metadata": {
        "colab": {
          "base_uri": "https://localhost:8080/"
        },
        "id": "OZuHRrwq09IP",
        "outputId": "640d4d5b-4459-42bc-c941-9529d6918385"
      },
      "execution_count": null,
      "outputs": [
        {
          "output_type": "stream",
          "name": "stdout",
          "text": [
            "請輸入分數：40\n",
            "不及格\n"
          ]
        }
      ]
    },
    {
      "cell_type": "code",
      "source": [
        "password=int(input(\"請輸入密碼：\"))\n",
        "if password==1212:\n",
        "    print(\"歡迎光臨\")"
      ],
      "metadata": {
        "colab": {
          "base_uri": "https://localhost:8080/"
        },
        "id": "SryjvXsa37bU",
        "outputId": "5ec9c414-3ff7-4590-a4d1-12e013b91229"
      },
      "execution_count": null,
      "outputs": [
        {
          "output_type": "stream",
          "name": "stdout",
          "text": [
            "請輸入密碼：1212\n",
            "歡迎光臨\n"
          ]
        }
      ]
    },
    {
      "cell_type": "code",
      "execution_count": null,
      "metadata": {
        "colab": {
          "base_uri": "https://localhost:8080/"
        },
        "id": "1CJemEbf0EAz",
        "outputId": "d7a901c2-c379-42a9-8fe7-2a0d7469bf2b"
      },
      "outputs": [
        {
          "output_type": "stream",
          "name": "stdout",
          "text": [
            "請輸入密碼：1111\n",
            "密碼不正確\n"
          ]
        }
      ],
      "source": [
        "password=int(input(\"請輸入密碼：\"))\n",
        "if password==1234:\n",
        "    print(\"密碼正確\")\n",
        "else:\n",
        "    print(\"密碼不正確\")"
      ]
    },
    {
      "cell_type": "code",
      "source": [
        "rain=str(input(\"今天會下雨嗎？\"))\n",
        "if (rain==\"Y\" or rain==\"y\"):\n",
        "    print(\"不用帶傘\")"
      ],
      "metadata": {
        "colab": {
          "base_uri": "https://localhost:8080/"
        },
        "id": "ZRsdqeMm1e4u",
        "outputId": "c84fa606-42c5-40f8-d3ec-a4cfcc5f00ef"
      },
      "execution_count": null,
      "outputs": [
        {
          "output_type": "stream",
          "name": "stdout",
          "text": [
            "今天會下雨嗎？y\n",
            "不用帶傘\n"
          ]
        }
      ]
    },
    {
      "cell_type": "code",
      "source": [
        "a=int(input(\"請輸入正整數：\"))\n",
        "if a//2:\n",
        "    print(a,\"為偶數\")\n",
        "else:\n",
        "    print(a,\"為奇數\")"
      ],
      "metadata": {
        "colab": {
          "base_uri": "https://localhost:8080/"
        },
        "id": "fUoohkdO4PsW",
        "outputId": "3d93f57d-fa0f-4c78-b88f-55261e7ed04d"
      },
      "execution_count": null,
      "outputs": [
        {
          "output_type": "stream",
          "name": "stdout",
          "text": [
            "請輸入正整數：50\n",
            "50 為偶數\n"
          ]
        }
      ]
    }
  ]
}