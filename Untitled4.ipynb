{
  "nbformat": 4,
  "nbformat_minor": 0,
  "metadata": {
    "colab": {
      "provenance": [],
      "authorship_tag": "ABX9TyMcOVVZCZM0yTLQ8x0mMJCi",
      "include_colab_link": true
    },
    "kernelspec": {
      "name": "python3",
      "display_name": "Python 3"
    },
    "language_info": {
      "name": "python"
    }
  },
  "cells": [
    {
      "cell_type": "markdown",
      "metadata": {
        "id": "view-in-github",
        "colab_type": "text"
      },
      "source": [
        "<a href=\"https://colab.research.google.com/github/yili10/Introduction--to-Computers/blob/main/Untitled4.ipynb\" target=\"_parent\"><img src=\"https://colab.research.google.com/assets/colab-badge.svg\" alt=\"Open In Colab\"/></a>"
      ]
    },
    {
      "cell_type": "code",
      "source": [
        "a=range(0,9,1)\n",
        "b=range(1,10,1)\n",
        "c=range(1,10,2)\n",
        "d=range(10,2,-2)"
      ],
      "metadata": {
        "id": "mu2UjeN64szJ"
      },
      "execution_count": 5,
      "outputs": []
    },
    {
      "cell_type": "code",
      "source": [
        "list(a)"
      ],
      "metadata": {
        "colab": {
          "base_uri": "https://localhost:8080/"
        },
        "id": "l0Tv2EvB8T2V",
        "outputId": "47bac545-85ac-4a47-9aeb-c200727062f0"
      },
      "execution_count": 11,
      "outputs": [
        {
          "output_type": "execute_result",
          "data": {
            "text/plain": [
              "[0, 1, 2, 3, 4, 5, 6, 7, 8]"
            ]
          },
          "metadata": {},
          "execution_count": 11
        }
      ]
    },
    {
      "cell_type": "code",
      "source": [
        "list(b)"
      ],
      "metadata": {
        "colab": {
          "base_uri": "https://localhost:8080/"
        },
        "id": "JhtQTZJS9nTs",
        "outputId": "3023111d-cf62-4987-92cc-3bd64b617f19"
      },
      "execution_count": 15,
      "outputs": [
        {
          "output_type": "execute_result",
          "data": {
            "text/plain": [
              "[1, 2, 3, 4, 5, 6, 7, 8, 9]"
            ]
          },
          "metadata": {},
          "execution_count": 15
        }
      ]
    },
    {
      "cell_type": "code",
      "source": [
        "list(c)"
      ],
      "metadata": {
        "colab": {
          "base_uri": "https://localhost:8080/"
        },
        "id": "roDkuZjg9v3-",
        "outputId": "2b0e6b07-0bbc-4ad3-fcc2-10a6b79f9bcc"
      },
      "execution_count": 14,
      "outputs": [
        {
          "output_type": "execute_result",
          "data": {
            "text/plain": [
              "[1, 3, 5, 7, 9]"
            ]
          },
          "metadata": {},
          "execution_count": 14
        }
      ]
    },
    {
      "cell_type": "code",
      "source": [
        "list(d)"
      ],
      "metadata": {
        "colab": {
          "base_uri": "https://localhost:8080/"
        },
        "id": "bPKNpx3o92Ct",
        "outputId": "91b53b2f-20b6-4aa1-ff81-8117e9e04ff3"
      },
      "execution_count": 17,
      "outputs": [
        {
          "output_type": "execute_result",
          "data": {
            "text/plain": [
              "[10, 8, 6, 4]"
            ]
          },
          "metadata": {},
          "execution_count": 17
        }
      ]
    },
    {
      "cell_type": "code",
      "source": [
        "for n in range(3):\n",
        "    print (n,end=\",\")"
      ],
      "metadata": {
        "colab": {
          "base_uri": "https://localhost:8080/"
        },
        "id": "hL4KFn9R9-ey",
        "outputId": "9e9d0b59-a5c6-4a1b-cba7-d1e7a48a0c83"
      },
      "execution_count": 18,
      "outputs": [
        {
          "output_type": "stream",
          "name": "stdout",
          "text": [
            "0,1,2,"
          ]
        }
      ]
    },
    {
      "cell_type": "code",
      "source": [
        "n=int(input (\"請輸入一個正整數：\"))\n",
        "sum=0\n",
        "for i in range(1,n+1):\n",
        "    sum=sum+i\n",
        "print (\"1到{}的正整數和為 {}\".format(n,sum))"
      ],
      "metadata": {
        "colab": {
          "base_uri": "https://localhost:8080/"
        },
        "id": "8v-y5qR4-jSJ",
        "outputId": "35ae412c-3480-4703-ea5d-5e0023f4fb3b"
      },
      "execution_count": 26,
      "outputs": [
        {
          "output_type": "stream",
          "name": "stdout",
          "text": [
            "請輸入一個正整數：10\n",
            "1到10的正整數和為 55\n"
          ]
        }
      ]
    },
    {
      "cell_type": "code",
      "source": [
        "n=int(input (\"請輸入一個正整數：\"))\n",
        "sum=0\n",
        "for i in range(1,n+1):\n",
        "    sum=sum+i\n",
        "    list1=list(range(1,n+1))\n",
        "    print (\"1到{}的正整數和為 {}\".format(i,sum))"
      ],
      "metadata": {
        "colab": {
          "base_uri": "https://localhost:8080/"
        },
        "id": "xKeGxhU5ArGG",
        "outputId": "60051ac3-8763-43d6-d2e5-e7e5586475e0"
      },
      "execution_count": 35,
      "outputs": [
        {
          "output_type": "stream",
          "name": "stdout",
          "text": [
            "請輸入一個正整數：10\n",
            "1到1的正整數和為 1\n",
            "1到2的正整數和為 3\n",
            "1到3的正整數和為 6\n",
            "1到4的正整數和為 10\n",
            "1到5的正整數和為 15\n",
            "1到6的正整數和為 21\n",
            "1到7的正整數和為 28\n",
            "1到8的正整數和為 36\n",
            "1到9的正整數和為 45\n",
            "1到10的正整數和為 55\n"
          ]
        }
      ]
    }
  ]
}