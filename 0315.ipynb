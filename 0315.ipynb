{
  "nbformat": 4,
  "nbformat_minor": 0,
  "metadata": {
    "colab": {
      "provenance": [],
      "authorship_tag": "ABX9TyM0R5eIDtnj/NjmyuXZFoov",
      "include_colab_link": true
    },
    "kernelspec": {
      "name": "python3",
      "display_name": "Python 3"
    },
    "language_info": {
      "name": "python"
    }
  },
  "cells": [
    {
      "cell_type": "markdown",
      "metadata": {
        "id": "view-in-github",
        "colab_type": "text"
      },
      "source": [
        "<a href=\"https://colab.research.google.com/github/yili10/Introduction--to-Computers/blob/main/0315.ipynb\" target=\"_parent\"><img src=\"https://colab.research.google.com/assets/colab-badge.svg\" alt=\"Open In Colab\"/></a>"
      ]
    },
    {
      "cell_type": "code",
      "source": [
        "a,b,c=1,0.1,\"1\""
      ],
      "metadata": {
        "id": "1QE404g9XHhM"
      },
      "execution_count": null,
      "outputs": []
    },
    {
      "cell_type": "code",
      "source": [
        "print(type(a))\n",
        "print(type(b))\n",
        "print(type(c))"
      ],
      "metadata": {
        "colab": {
          "base_uri": "https://localhost:8080/"
        },
        "id": "Wi0duMBfXYpw",
        "outputId": "29405c6c-a7db-4ce8-9e3b-a856339002e3"
      },
      "execution_count": null,
      "outputs": [
        {
          "output_type": "stream",
          "name": "stdout",
          "text": [
            "<class 'int'>\n",
            "<class 'float'>\n",
            "<class 'str'>\n"
          ]
        }
      ]
    },
    {
      "cell_type": "code",
      "execution_count": null,
      "metadata": {
        "colab": {
          "base_uri": "https://localhost:8080/"
        },
        "id": "qpTKNlbBWwSv",
        "outputId": "0036506e-fa83-4fc1-ff0d-594ccfa2ecf0"
      },
      "outputs": [
        {
          "output_type": "stream",
          "name": "stdout",
          "text": [
            "1 0.1 1\n",
            "1.1\n"
          ]
        }
      ],
      "source": [
        "print(a,b,c)\n",
        "print(a+b)"
      ]
    },
    {
      "cell_type": "code",
      "source": [
        "numl=1+1.1\n",
        "print(numl)"
      ],
      "metadata": {
        "colab": {
          "base_uri": "https://localhost:8080/"
        },
        "id": "dTdk2fWbYK2m",
        "outputId": "127a2af0-7740-4148-982b-31bf993192ee"
      },
      "execution_count": null,
      "outputs": [
        {
          "output_type": "stream",
          "name": "stdout",
          "text": [
            "2.1\n"
          ]
        }
      ]
    },
    {
      "cell_type": "code",
      "source": [
        "int(numl)"
      ],
      "metadata": {
        "colab": {
          "base_uri": "https://localhost:8080/"
        },
        "id": "QAL1CtTmYBkp",
        "outputId": "2b3c33b8-bb06-4e8a-f33f-7a1e35c536ca"
      },
      "execution_count": null,
      "outputs": [
        {
          "output_type": "execute_result",
          "data": {
            "text/plain": [
              "2"
            ]
          },
          "metadata": {},
          "execution_count": 8
        }
      ]
    },
    {
      "cell_type": "code",
      "source": [
        "numl"
      ],
      "metadata": {
        "colab": {
          "base_uri": "https://localhost:8080/"
        },
        "id": "DnsrcLTH2S-h",
        "outputId": "b8361f72-804f-434d-ab54-eb28d996c3c3"
      },
      "execution_count": null,
      "outputs": [
        {
          "output_type": "execute_result",
          "data": {
            "text/plain": [
              "2.1"
            ]
          },
          "metadata": {},
          "execution_count": 10
        }
      ]
    },
    {
      "cell_type": "code",
      "source": [
        "int(numl)+a"
      ],
      "metadata": {
        "colab": {
          "base_uri": "https://localhost:8080/"
        },
        "id": "ilmDWDGl2V-b",
        "outputId": "c140e55a-fd24-4696-a678-33b7a2045d67"
      },
      "execution_count": null,
      "outputs": [
        {
          "output_type": "execute_result",
          "data": {
            "text/plain": [
              "3"
            ]
          },
          "metadata": {},
          "execution_count": 11
        }
      ]
    },
    {
      "cell_type": "code",
      "source": [
        "print(int(numl))\n",
        "print(str(numl))"
      ],
      "metadata": {
        "colab": {
          "base_uri": "https://localhost:8080/"
        },
        "id": "WMl1jrKi2NvI",
        "outputId": "83bd796b-be98-4192-927a-d74875a09907"
      },
      "execution_count": null,
      "outputs": [
        {
          "output_type": "stream",
          "name": "stdout",
          "text": [
            "2\n",
            "2.1\n"
          ]
        }
      ]
    },
    {
      "cell_type": "code",
      "source": [
        "d,e,f=1,2,3"
      ],
      "metadata": {
        "id": "IPcjqxeMYwwP"
      },
      "execution_count": null,
      "outputs": []
    },
    {
      "cell_type": "code",
      "source": [
        "print(int(d))\n",
        "print(float(e))\n",
        "print(str(f))"
      ],
      "metadata": {
        "colab": {
          "base_uri": "https://localhost:8080/"
        },
        "id": "Kk2_SyJLZl4R",
        "outputId": "5e6eb1b3-b209-453f-811b-802b6a97021c"
      },
      "execution_count": null,
      "outputs": [
        {
          "output_type": "stream",
          "name": "stdout",
          "text": [
            "1\n",
            "2.0\n",
            "3\n"
          ]
        }
      ]
    },
    {
      "cell_type": "code",
      "source": [
        "a=1\n",
        "b=2\n",
        "c=3\n",
        "print(a,b,c)\n",
        "print([a,b,c])\n",
        "print(a,[b,c])"
      ],
      "metadata": {
        "colab": {
          "base_uri": "https://localhost:8080/"
        },
        "id": "1JVoK_lDfjhe",
        "outputId": "e98eed0a-ae47-4e80-8eda-d427134b27dd"
      },
      "execution_count": null,
      "outputs": [
        {
          "output_type": "stream",
          "name": "stdout",
          "text": [
            "1 2 3\n",
            "[1, 2, 3]\n",
            "1 [2, 3]\n"
          ]
        }
      ]
    },
    {
      "cell_type": "code",
      "source": [
        "print('hey','hi','hello')\n",
        "print('hey','hi','hello',sep='_')\n",
        "print('hey','hi','hello',sep='\\t')\n",
        "print('hey','hi','hello',sep='\\n')"
      ],
      "metadata": {
        "id": "OxsgQU9igIZf",
        "colab": {
          "base_uri": "https://localhost:8080/"
        },
        "outputId": "6e4ef826-89c7-4a69-c0b2-fe2c3025a7ce"
      },
      "execution_count": null,
      "outputs": [
        {
          "output_type": "stream",
          "name": "stdout",
          "text": [
            "hey hi hello\n",
            "hey_hi_hello\n",
            "hey\thi\thello\n",
            "hey\n",
            "hi\n",
            "hello\n"
          ]
        }
      ]
    },
    {
      "cell_type": "code",
      "source": [
        "print('午安，')\n",
        "print('同學好！')\n",
        "print('打起精神來！！')\n",
        "print('午安，','同學好！','打起精神來！！',sep='\\n')"
      ],
      "metadata": {
        "colab": {
          "base_uri": "https://localhost:8080/"
        },
        "id": "eORMdCuX4dMZ",
        "outputId": "c4944387-d8ac-4040-fb04-b05d8f8e1ba2"
      },
      "execution_count": null,
      "outputs": [
        {
          "output_type": "stream",
          "name": "stdout",
          "text": [
            "午安，\n",
            "同學好！\n",
            "打起精神來！！\n",
            "午安，\n",
            "同學好！\n",
            "打起精神來！！\n"
          ]
        }
      ]
    },
    {
      "cell_type": "code",
      "source": [
        "print(123)\n",
        "print(456)"
      ],
      "metadata": {
        "colab": {
          "base_uri": "https://localhost:8080/"
        },
        "id": "HenhmnWB66a5",
        "outputId": "f64a89a6-0b9a-4e18-af7c-0ba849e44b81"
      },
      "execution_count": null,
      "outputs": [
        {
          "output_type": "stream",
          "name": "stdout",
          "text": [
            "123\n",
            "456\n"
          ]
        }
      ]
    },
    {
      "cell_type": "code",
      "source": [
        "print(123,end=',')\n",
        "print(456)"
      ],
      "metadata": {
        "colab": {
          "base_uri": "https://localhost:8080/"
        },
        "id": "PLItw6D47mBJ",
        "outputId": "af24e2ca-be7d-46ea-dc4d-5e8d85399003"
      },
      "execution_count": null,
      "outputs": [
        {
          "output_type": "stream",
          "name": "stdout",
          "text": [
            "123,456\n"
          ]
        }
      ]
    },
    {
      "cell_type": "code",
      "source": [
        "print(123,end='')\n",
        "print(456)"
      ],
      "metadata": {
        "colab": {
          "base_uri": "https://localhost:8080/"
        },
        "id": "UXQ2cGVr72_R",
        "outputId": "49246bfa-e01a-40e4-a6a6-fba7c0fc5716"
      },
      "execution_count": null,
      "outputs": [
        {
          "output_type": "stream",
          "name": "stdout",
          "text": [
            "123456\n"
          ]
        }
      ]
    },
    {
      "cell_type": "code",
      "source": [
        "print('午安_同學好_打起精神來!!!')\n",
        "print('下午好,平安順心,健康如意^^')"
      ],
      "metadata": {
        "id": "AyYOmSyw8Lfx",
        "colab": {
          "base_uri": "https://localhost:8080/"
        },
        "outputId": "f78db402-d109-49fa-c4b0-a88b74098fdd"
      },
      "execution_count": 20,
      "outputs": [
        {
          "output_type": "stream",
          "name": "stdout",
          "text": [
            "午安_同學好_打起精神來!!!\n",
            "下午好,平安順心,健康如意^^\n"
          ]
        }
      ]
    }
  ]
}